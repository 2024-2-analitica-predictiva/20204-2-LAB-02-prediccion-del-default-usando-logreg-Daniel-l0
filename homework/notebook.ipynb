{
 "cells": [
  {
   "cell_type": "code",
   "execution_count": 1,
   "metadata": {},
   "outputs": [],
   "source": [
    "import pandas as pd\n",
    "from sklearn.model_selection import train_test_split, GridSearchCV\n",
    "from sklearn.pipeline import Pipeline\n",
    "from sklearn.preprocessing import OneHotEncoder, MinMaxScaler\n",
    "from sklearn.compose import ColumnTransformer\n",
    "from sklearn.feature_selection import SelectKBest, f_classif\n",
    "from sklearn.linear_model import LogisticRegression\n",
    "from sklearn.metrics import precision_score, balanced_accuracy_score, recall_score, f1_score, confusion_matrix\n",
    "import gzip\n",
    "import json\n",
    "import os\n",
    "import pickle\n"
   ]
  },
  {
   "cell_type": "code",
   "execution_count": 2,
   "metadata": {},
   "outputs": [],
   "source": [
    "# Load datasets\n",
    "train_data = pd.read_csv('../files/input/train_data.csv.zip')\n",
    "test_data = pd.read_csv('../files/input/test_data.csv.zip')\n",
    "\n",
    "# Step 1: Data Cleaning\n",
    "def clean_data(df):\n",
    "    df = df.rename(columns={'default payment next month': 'default'})\n",
    "    df = df.drop(columns=['ID'])\n",
    "    df = df.dropna()\n",
    "    df = df.iloc[df[(df['EDUCATION'] != 0) & (df['MARRIAGE'] != 0)].index]    \n",
    "    df['EDUCATION'] = df['EDUCATION'].apply(lambda x: x if x <= 4 else 4)\n",
    "    return df\n",
    "\n",
    "train_data = clean_data(train_data)\n",
    "test_data = clean_data(test_data)\n"
   ]
  },
  {
   "cell_type": "code",
   "execution_count": 3,
   "metadata": {},
   "outputs": [],
   "source": [
    "# Step 2: Split datasets\n",
    "x_train = train_data.drop(columns=['default'])\n",
    "y_train = train_data['default']\n",
    "x_test = test_data.drop(columns=['default'])\n",
    "y_test = test_data['default']"
   ]
  },
  {
   "cell_type": "code",
   "execution_count": 4,
   "metadata": {},
   "outputs": [],
   "source": [
    "# Step 3: Create pipeline\n",
    "categorical_features = ['SEX', 'EDUCATION', 'MARRIAGE']\n",
    "numeric_features = [col for col in x_train.columns if col not in categorical_features]\n",
    "\n",
    "# Crear el transformador para las columnas categóricas y numericas \n",
    "preprocessor = ColumnTransformer(\n",
    "    transformers=[\n",
    "        ('cat', OneHotEncoder(handle_unknown='ignore'), categorical_features)\n",
    "        \n",
    "    ],\n",
    "    remainder='passthrough' \n",
    "\n",
    ")\n",
    "\n",
    "## selecciona las mejores k variables \n",
    "k_best_selector = SelectKBest(score_func=f_classif, k=1)\n",
    "\n",
    "\n",
    "# Crear el pipeline con preprocesamiento y el modelo\n",
    "pipeline = Pipeline(steps=[\n",
    "    ('preprocessor', preprocessor),\n",
    "    ('kbest', k_best_selector),\n",
    "    ('num', MinMaxScaler()),\n",
    "    ('estimator', LogisticRegression(n_jobs=-1, random_state=666,class_weight=None))  # Establecer el estimador que se pasa como argumento\n",
    "],\n",
    "verbose=False)\n"
   ]
  },
  {
   "cell_type": "code",
   "execution_count": 5,
   "metadata": {},
   "outputs": [
    {
     "name": "stdout",
     "output_type": "stream",
     "text": [
      "Best parameters found:  {'estimator__C': 1, 'estimator__solver': 'lbfgs'}\n",
      "Best balanced accuracy score:  0.6392688664250823\n"
     ]
    }
   ],
   "source": [
    "# Step 4: Hyperparameter optimization\n",
    "param_grid = {\n",
    "        'estimator__C': [1],\n",
    "        'estimator__solver': ['lbfgs']\n",
    "    }\n",
    "\n",
    "\n",
    "grid_search = GridSearchCV(pipeline, param_grid, cv=10, scoring='balanced_accuracy')\n",
    "grid_search.fit(x_train, y_train)\n",
    "\n",
    "# Print the best parameters and best score\n",
    "print(\"Best parameters found: \", grid_search.best_params_)\n",
    "print(\"Best balanced accuracy score: \", grid_search.best_score_)\n"
   ]
  },
  {
   "cell_type": "code",
   "execution_count": 6,
   "metadata": {},
   "outputs": [],
   "source": [
    "# Save the model\n",
    "output_dir = '../files/models'\n",
    "os.makedirs(output_dir, exist_ok=True)\n",
    "with gzip.open('../files/models/model.pkl.gz', 'wb') as f:\n",
    "    pickle.dump(grid_search, f)"
   ]
  },
  {
   "cell_type": "code",
   "execution_count": 7,
   "metadata": {},
   "outputs": [],
   "source": [
    "# Step 5: Calculate metrics\n",
    "def calculate_metrics(model, x, y, dataset_type):\n",
    "    y_pred = model.predict(x)\n",
    "    metrics = {\n",
    "        'type': 'metrics',\n",
    "        'dataset': dataset_type,\n",
    "        'precision': precision_score(y, y_pred, zero_division=0),\n",
    "        'balanced_accuracy': balanced_accuracy_score(y, y_pred),\n",
    "        'recall': recall_score(y, y_pred, zero_division=0),\n",
    "        'f1_score': f1_score(y, y_pred, zero_division=0)\n",
    "    }\n",
    "    return metrics\n",
    "\n",
    "train_metrics = calculate_metrics(grid_search.best_estimator_, x_train, y_train, 'train')\n",
    "test_metrics = calculate_metrics(grid_search.best_estimator_, x_test, y_test, 'test')"
   ]
  },
  {
   "cell_type": "code",
   "execution_count": 8,
   "metadata": {},
   "outputs": [],
   "source": [
    "# Step 6: Save metrics\n",
    "# Guardar métricas\n",
    "output_dir = '../files/output'\n",
    "os.makedirs(output_dir, exist_ok=True)\n",
    "metrics = [train_metrics, test_metrics]\n",
    "with open('../files/output/metrics.json', 'w') as f:\n",
    "    for metric in metrics:\n",
    "        f.write(json.dumps(metric) + '\\n')\n"
   ]
  },
  {
   "cell_type": "code",
   "execution_count": 9,
   "metadata": {},
   "outputs": [],
   "source": [
    "# Step 7: Calculate confusion matrices\n",
    "def calculate_confusion_matrix(model, x, y, dataset_type):\n",
    "    y_pred = model.predict(x)\n",
    "    cm = confusion_matrix(y, y_pred)\n",
    "    cm_dict = {\n",
    "        'type': 'cm_matrix',\n",
    "        'dataset': dataset_type,\n",
    "        'true_0': {'predicted_0': int(cm[0, 0]), 'predicted_1': int(cm[0, 1])},\n",
    "        'true_1': {'predicted_0': int(cm[1, 0]), 'predicted_1': int(cm[1, 1])}\n",
    "    }\n",
    "    return cm_dict\n",
    "\n",
    "train_cm = calculate_confusion_matrix(grid_search.best_estimator_, x_train, y_train, 'train')\n",
    "test_cm = calculate_confusion_matrix(grid_search.best_estimator_, x_test, y_test, 'test')"
   ]
  },
  {
   "cell_type": "code",
   "execution_count": 10,
   "metadata": {},
   "outputs": [],
   "source": [
    "# Guardar matrices de confusión\n",
    "metrics_extend = [train_cm, test_cm]\n",
    "with open('../files/output/metrics.json', 'a') as f:\n",
    "    for metric in metrics_extend:\n",
    "        f.write(json.dumps(metric) + '\\n')"
   ]
  }
 ],
 "metadata": {
  "kernelspec": {
   "display_name": ".venv",
   "language": "python",
   "name": "python3"
  },
  "language_info": {
   "codemirror_mode": {
    "name": "ipython",
    "version": 3
   },
   "file_extension": ".py",
   "mimetype": "text/x-python",
   "name": "python",
   "nbconvert_exporter": "python",
   "pygments_lexer": "ipython3",
   "version": "3.10.2"
  }
 },
 "nbformat": 4,
 "nbformat_minor": 2
}
